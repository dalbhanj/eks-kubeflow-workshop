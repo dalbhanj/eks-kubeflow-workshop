{
 "cells": [
  {
   "cell_type": "markdown",
   "metadata": {},
   "source": [
    "## Add transformers to 05_01_Pipeline_SDK example and show how to use node selectors to land on preferred nodegroup with label role=workers"
   ]
  },
  {
   "cell_type": "markdown",
   "metadata": {},
   "source": [
    "### Define Tolerations"
   ]
  },
  {
   "cell_type": "markdown",
   "metadata": {},
   "source": [
    "This notebook is tested with Kubeflow v1.1.0 which has multi-tenancy support in Kubeflow pipelines.   \n",
    "Ensure that following labels and taints exists (role=workers) on nodes\n",
    "\n",
    "kubectl label nodes <node-name> role=workers      \n",
    "kubectl get nodes --show-labels"
   ]
  },
  {
   "cell_type": "code",
   "execution_count": null,
   "metadata": {},
   "outputs": [],
   "source": [
    "import kfp.dsl as dsl\n",
    "from kfp import compiler\n",
    "\n",
    "from kubernetes import client as k8s_client\n",
    "from kubernetes.client.models import V1EnvVar, V1SecretKeySelector"
   ]
  },
  {
   "cell_type": "code",
   "execution_count": null,
   "metadata": {},
   "outputs": [],
   "source": [
    "def node_selector(op):\n",
    "    if isinstance(op, dsl.ContainerOp):\n",
    "        op.add_node_selector_constraint('role', 'workers')\n",
    "        # op.add_node_selector_constraint('single-az', 'true')\n",
    "        # op.add_node_selector_constraint('spot', 'false')\n",
    "        # op.container.set_memory_request(\"2G\")\n",
    "        # op.container.set_cpu_request(\"1\")"
   ]
  },
  {
   "cell_type": "markdown",
   "metadata": {},
   "source": [
    "### Build simple components and pipelines"
   ]
  },
  {
   "cell_type": "code",
   "execution_count": null,
   "metadata": {},
   "outputs": [],
   "source": [
    "import kfp\n",
    "authservice_session='authservice_session=<cookie>'\n",
    "client = kfp.Client(host='http://<aws_alb_host>/pipeline', cookies=authservice_session)\n",
    "#client.list_experiments(namespace=\"<your_namespace>\")\n",
    "from kfp import dsl\n",
    "\n",
    "def add_two_numbers(a, b):\n",
    "    return dsl.ContainerOp(\n",
    "        name='calculate_sum',\n",
    "        image='python:3.6.8',\n",
    "        command=['python', '-c'],\n",
    "        arguments=['with open(\"/tmp/results.txt\", \"a\") as file: file.write(str({} + {}))'.format(a, b)],\n",
    "        file_outputs={\n",
    "            'data': '/tmp/results.txt',\n",
    "        }\n",
    "    )\n",
    "\n",
    "def echo_op(text):\n",
    "    return dsl.ContainerOp(\n",
    "        name='echo',\n",
    "        image='library/bash:4.4.23',\n",
    "        command=['sh', '-c'],\n",
    "        arguments=['echo \"Result: {}\"'.format(text)]\n",
    "    )"
   ]
  },
  {
   "cell_type": "markdown",
   "metadata": {},
   "source": [
    "### Define your pipeline as a Python function"
   ]
  },
  {
   "cell_type": "code",
   "execution_count": null,
   "metadata": {},
   "outputs": [],
   "source": [
    "@dsl.pipeline(\n",
    "  name='Calcualte sum pipeline',\n",
    "  description='Calculate sum of numbers and prints the result.'\n",
    ")\n",
    "def calculate_sum(\n",
    "    a=7,\n",
    "    b=10,\n",
    "    c=4,\n",
    "    d=7\n",
    "):\n",
    "    \"\"\"A four-step pipeline with first two running in parallel.\"\"\"\n",
    "\n",
    "    sum1 = add_two_numbers(a, b)\n",
    "    sum2 = add_two_numbers(c, d)\n",
    "    sum = add_two_numbers(sum1.output, sum2.output)\n",
    "\n",
    "    echo_task = echo_op(sum.output)\n",
    "    \n",
    "    pipeline_conf = dsl.get_pipeline_conf()\n",
    "    pipeline_conf.add_op_transformer(node_selector)    "
   ]
  },
  {
   "cell_type": "markdown",
   "metadata": {},
   "source": [
    "### Compile the pipeline"
   ]
  },
  {
   "cell_type": "code",
   "execution_count": null,
   "metadata": {},
   "outputs": [],
   "source": [
    "kfp.compiler.Compiler().compile(calculate_sum, 'calculate-sum-pipeline.zip')"
   ]
  },
  {
   "cell_type": "markdown",
   "metadata": {},
   "source": [
    "### Deploy pipeline"
   ]
  },
  {
   "cell_type": "code",
   "execution_count": null,
   "metadata": {},
   "outputs": [],
   "source": [
    "#client = kfp.Client()\n",
    "aws_experiment = client.create_experiment(name='aws', namespace='<your_namespace>')\n",
    "my_run = client.run_pipeline(aws_experiment.id, 'calculate-sum-pipeline', \n",
    "  'calculate-sum-pipeline.zip')"
   ]
  }
 ],
 "metadata": {
  "kernelspec": {
   "display_name": "Python 3",
   "language": "python",
   "name": "python3"
  },
  "language_info": {
   "codemirror_mode": {
    "name": "ipython",
    "version": 3
   },
   "file_extension": ".py",
   "mimetype": "text/x-python",
   "name": "python",
   "nbconvert_exporter": "python",
   "pygments_lexer": "ipython3",
   "version": "3.6.9"
  }
 },
 "nbformat": 4,
 "nbformat_minor": 4
}
