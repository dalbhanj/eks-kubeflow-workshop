{
 "cells": [
  {
   "cell_type": "markdown",
   "metadata": {},
   "source": [
    "## Add transformers to 05_01_Pipeline_SDK example and show how to use node selectors to land on preferred nodegroup with label role=workers"
   ]
  },
  {
   "cell_type": "markdown",
   "metadata": {},
   "source": [
    "### Define Tolerations"
   ]
  },
  {
   "cell_type": "markdown",
   "metadata": {},
   "source": [
    "Ensure that following labels and taints exists (role=workers) on nodes"
   ]
  },
  {
   "cell_type": "code",
   "execution_count": 1,
   "metadata": {},
   "outputs": [],
   "source": [
    "import kfp.dsl as dsl\n",
    "from kfp import compiler\n",
    "\n",
    "#from irml_tim.kubeflow import transformers\n",
    "from kubernetes import client as k8s_client\n",
    "from kubernetes.client.models import V1EnvVar, V1SecretKeySelector"
   ]
  },
  {
   "cell_type": "code",
   "execution_count": 2,
   "metadata": {},
   "outputs": [],
   "source": [
    "def node_selector(op):\n",
    "    if isinstance(op, dsl.ContainerOp):\n",
    "        op.add_node_selector_constraint('role', 'workers')\n",
    "        # op.add_node_selector_constraint('single-az', 'true')\n",
    "        # op.add_node_selector_constraint('spot', 'false')\n",
    "        # op.container.set_memory_request(\"2G\")\n",
    "        # op.container.set_cpu_request(\"1\")"
   ]
  },
  {
   "cell_type": "markdown",
   "metadata": {},
   "source": [
    "### Build simple components and pipelines"
   ]
  },
  {
   "cell_type": "code",
   "execution_count": 3,
   "metadata": {},
   "outputs": [],
   "source": [
    "import kfp\n",
    "authservice_session='authservice_session=MTYwNjE1Nzg3MnxOd3dBTkVSWFFsRlRRMEpXTTBKRFZWTktSMDVCUzFoYVZrUkhOelZZUlVWUVZEVk1NMHBPVmtjMVVWWlFWalZOTjFsRlJrdEpUVkU9fNjq1h1F6P5TSlsIpE1SpZCHSgc5gnzexq-3pOhqDHV1'\n",
    "client = kfp.Client(host='http://3e100955-istiosystem-istio-2af2-1671188516.us-west-2.elb.amazonaws.com/pipeline', cookies=authservice_session)\n",
    "#client.list_experiments(namespace=\"eksworkshop\")\n",
    "from kfp import dsl\n",
    "\n",
    "def add_two_numbers(a, b):\n",
    "    return dsl.ContainerOp(\n",
    "        name='calculate_sum',\n",
    "        image='python:3.6.8',\n",
    "        command=['python', '-c'],\n",
    "        arguments=['with open(\"/tmp/results.txt\", \"a\") as file: file.write(str({} + {}))'.format(a, b)],\n",
    "        file_outputs={\n",
    "            'data': '/tmp/results.txt',\n",
    "        }\n",
    "    )\n",
    "\n",
    "def echo_op(text):\n",
    "    return dsl.ContainerOp(\n",
    "        name='echo',\n",
    "        image='library/bash:4.4.23',\n",
    "        command=['sh', '-c'],\n",
    "        arguments=['echo \"Result: {}\"'.format(text)]\n",
    "    )"
   ]
  },
  {
   "cell_type": "markdown",
   "metadata": {},
   "source": [
    "### Define your pipeline as a Python function"
   ]
  },
  {
   "cell_type": "code",
   "execution_count": 4,
   "metadata": {},
   "outputs": [],
   "source": [
    "@dsl.pipeline(\n",
    "  name='Calcualte sum pipeline',\n",
    "  description='Calculate sum of numbers and prints the result.'\n",
    ")\n",
    "def calculate_sum(\n",
    "    a=7,\n",
    "    b=10,\n",
    "    c=4,\n",
    "    d=7\n",
    "):\n",
    "    \"\"\"A four-step pipeline with first two running in parallel.\"\"\"\n",
    "\n",
    "    sum1 = add_two_numbers(a, b)\n",
    "    sum2 = add_two_numbers(c, d)\n",
    "    sum = add_two_numbers(sum1.output, sum2.output)\n",
    "\n",
    "    echo_task = echo_op(sum.output)\n",
    "    \n",
    "    pipeline_conf = dsl.get_pipeline_conf()\n",
    "#     pipeline_conf.add_op_transformer(transformers.irml_defaults)\n",
    "    pipeline_conf.add_op_transformer(node_selector)    "
   ]
  },
  {
   "cell_type": "markdown",
   "metadata": {},
   "source": [
    "### Compile the pipeline"
   ]
  },
  {
   "cell_type": "code",
   "execution_count": 5,
   "metadata": {},
   "outputs": [
    {
     "name": "stderr",
     "output_type": "stream",
     "text": [
      "/home/jovyan/.local/lib/python3.6/site-packages/kfp/components/_data_passing.py:168: UserWarning: Missing type name was inferred as \"Integer\" based on the value \"7\".\n",
      "  warnings.warn('Missing type name was inferred as \"{}\" based on the value \"{}\".'.format(type_name, str(value)))\n",
      "/home/jovyan/.local/lib/python3.6/site-packages/kfp/components/_data_passing.py:168: UserWarning: Missing type name was inferred as \"Integer\" based on the value \"10\".\n",
      "  warnings.warn('Missing type name was inferred as \"{}\" based on the value \"{}\".'.format(type_name, str(value)))\n",
      "/home/jovyan/.local/lib/python3.6/site-packages/kfp/components/_data_passing.py:168: UserWarning: Missing type name was inferred as \"Integer\" based on the value \"4\".\n",
      "  warnings.warn('Missing type name was inferred as \"{}\" based on the value \"{}\".'.format(type_name, str(value)))\n",
      "/home/jovyan/.local/lib/python3.6/site-packages/kfp/dsl/_container_op.py:1028: FutureWarning: Please create reusable components instead of constructing ContainerOp instances directly. Reusable components are shareable, portable and have compatibility and support guarantees. Please see the documentation: https://www.kubeflow.org/docs/pipelines/sdk/component-development/#writing-your-component-definition-file The components can be created manually (or, in case of python, using kfp.components.create_component_from_func or func_to_container_op) and then loaded using kfp.components.load_component_from_file, load_component_from_uri or load_component_from_text: https://kubeflow-pipelines.readthedocs.io/en/latest/source/kfp.components.html#kfp.components.load_component_from_file\n",
      "  category=FutureWarning,\n"
     ]
    }
   ],
   "source": [
    "kfp.compiler.Compiler().compile(calculate_sum, 'calculate-sum-pipeline.zip')"
   ]
  },
  {
   "cell_type": "markdown",
   "metadata": {},
   "source": [
    "### Deploy pipeline"
   ]
  },
  {
   "cell_type": "code",
   "execution_count": 6,
   "metadata": {},
   "outputs": [
    {
     "data": {
      "text/html": [
       "<a href=\"http://3e100955-istiosystem-istio-2af2-1671188516.us-west-2.elb.amazonaws.com/pipeline/#/experiments/details/f55acc6e-dcb4-48d9-8b19-353129b5cc69\" target=\"_blank\" >Experiment details</a>."
      ],
      "text/plain": [
       "<IPython.core.display.HTML object>"
      ]
     },
     "metadata": {},
     "output_type": "display_data"
    },
    {
     "data": {
      "text/html": [
       "<a href=\"http://3e100955-istiosystem-istio-2af2-1671188516.us-west-2.elb.amazonaws.com/pipeline/#/runs/details/97a87d42-41e5-4255-bb1c-50c90f116f30\" target=\"_blank\" >Run details</a>."
      ],
      "text/plain": [
       "<IPython.core.display.HTML object>"
      ]
     },
     "metadata": {},
     "output_type": "display_data"
    }
   ],
   "source": [
    "#client = kfp.Client()\n",
    "aws_experiment = client.create_experiment(name='aws', namespace='eksworkshop')\n",
    "my_run = client.run_pipeline(aws_experiment.id, 'calculate-sum-pipeline', \n",
    "  'calculate-sum-pipeline.zip')"
   ]
  },
  {
   "cell_type": "code",
   "execution_count": null,
   "metadata": {},
   "outputs": [],
   "source": []
  }
 ],
 "metadata": {
  "kernelspec": {
   "display_name": "Python 3",
   "language": "python",
   "name": "python3"
  },
  "language_info": {
   "codemirror_mode": {
    "name": "ipython",
    "version": 3
   },
   "file_extension": ".py",
   "mimetype": "text/x-python",
   "name": "python",
   "nbconvert_exporter": "python",
   "pygments_lexer": "ipython3",
   "version": "3.6.9"
  }
 },
 "nbformat": 4,
 "nbformat_minor": 4
}
