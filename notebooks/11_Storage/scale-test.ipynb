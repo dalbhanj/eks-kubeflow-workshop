{
 "cells": [
  {
   "cell_type": "code",
   "execution_count": null,
   "metadata": {},
   "outputs": [],
   "source": [
    "from typing import List\n",
    "\n",
    "import kfp\n",
    "import kfp.dsl as dsl\n",
    "\n",
    "from kubernetes import client as k8s_client\n",
    "import uuid"
   ]
  },
  {
   "cell_type": "code",
   "execution_count": null,
   "metadata": {},
   "outputs": [],
   "source": [
    "@dsl.pipeline(\n",
    "    name=\"Node group autoscalling\",\n",
    "    description=\"Pipeline to check if all node groups auto scale to run components\"\n",
    ")\n",
    "def pipeline(indexes: List[int]):\n",
    "\n",
    "    with dsl.ParallelFor(indexes) as item:\n",
    "        vop = dsl.VolumeOp(\n",
    "            name=uuid.uuid4().hex,\n",
    "            resource_name=f\"my-pvc-{item}\",\n",
    "            modes=dsl.VOLUME_MODE_RWO,\n",
    "            size=\"1G\"\n",
    "        )\n",
    "\n",
    "        cop_cpu_small = dsl.ContainerOp(\n",
    "            name=\"cpu-small\",\n",
    "            image=\"amazon/aws-cli\",\n",
    "            command=[\"sh\", \"-c\"],\n",
    "            arguments=[\"sleep 3m && curl http://169.254.169.254/latest/meta-data/instance-type\"],\n",
    "            pvolumes={\"/mnt\": vop.volume}\n",
    "        )\n",
    "        #cop_cpu_small.add_node_selector_constraint('compute-size', 'cpu-small')\n",
    "        cop_cpu_small.set_memory_request(\"10G\").set_cpu_request(\"3\")\n",
    "    \n",
    "    cop_cpu_small2 = dsl.ContainerOp(\n",
    "            name=\"cpu-small\",\n",
    "            image=\"amazon/aws-cli\",\n",
    "            command=[\"sh\", \"-c\"],\n",
    "            arguments=[\"sleep 3m && curl http://169.254.169.254/latest/meta-data/instance-type\"]\n",
    "        )\n",
    "    #cop_cpu_small2.add_node_selector_constraint('compute-size', 'cpu-small').after(cop_cpu_small)\n",
    "    cop_cpu_small2.set_memory_request(\"10G\").set_cpu_request(\"3\")"
   ]
  },
  {
   "cell_type": "code",
   "execution_count": null,
   "metadata": {},
   "outputs": [],
   "source": [
    "if __name__ == '__main__':\n",
    "\n",
    "    client = kfp.Client()\n",
    "\n",
    "    # you may have to scale this one till your cluster fails.\n",
    "    number_of_nodes = 50\n",
    "\n",
    "    run = client.create_run_from_pipeline_func(\n",
    "        pipeline_func=pipeline, \n",
    "        run_name=\"node-group-test\", \n",
    "        experiment_name='scale-test',\n",
    "        arguments={\"indexes\":list(range(number_of_nodes))}\n",
    "    )"
   ]
  }
 ],
 "metadata": {
  "kernelspec": {
   "display_name": "Python 3",
   "language": "python",
   "name": "python3"
  },
  "language_info": {
   "codemirror_mode": {
    "name": "ipython",
    "version": 3
   },
   "file_extension": ".py",
   "mimetype": "text/x-python",
   "name": "python",
   "nbconvert_exporter": "python",
   "pygments_lexer": "ipython3",
   "version": "3.8.7"
  }
 },
 "nbformat": 4,
 "nbformat_minor": 4
}
