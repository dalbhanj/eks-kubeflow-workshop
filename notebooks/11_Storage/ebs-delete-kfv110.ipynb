{
 "cells": [
  {
   "cell_type": "markdown",
   "metadata": {},
   "source": [
    "### Athenticate kfp SDK with Pipeline API"
   ]
  },
  {
   "cell_type": "markdown",
   "metadata": {},
   "source": [
    "Follow: https://www.kubeflow.org/docs/aws/pipeline/#authenticate-kubeflow-pipeline-using-sdk-inside-cluster\n",
    "Get the session cookie from your browser and replace Content of cookie with <cookie>\n",
    "Get ALB address and replace with <aws_alb_host>. Also modify namespace with <your_namespace>"
   ]
  },
  {
   "cell_type": "code",
   "execution_count": null,
   "metadata": {},
   "outputs": [],
   "source": [
    "import kfp\n",
    "authservice_session='authservice_session=<cookie>'\n",
    "client = kfp.Client(host='http://<aws_alb_host>/pipeline', cookies=authservice_session)\n",
    "client.list_experiments(namespace=\"<your_namespace>\")"
   ]
  },
  {
   "cell_type": "code",
   "execution_count": null,
   "metadata": {},
   "outputs": [],
   "source": [
    "import kfp.dsl as dsl\n",
    "from kfp import compiler\n",
    "\n",
    "#from irml_tim.kubeflow import transformers\n",
    "from kubernetes import client as k8s_client\n",
    "from kubernetes.client.models import V1EnvVar, V1SecretKeySelector"
   ]
  },
  {
   "cell_type": "code",
   "execution_count": null,
   "metadata": {},
   "outputs": [],
   "source": [
    "def node_selector(op):\n",
    "    if isinstance(op, dsl.ContainerOp):\n",
    "        # op.add_node_selector_constraint('compute-size', 'cpu-small')\n",
    "        # op.add_node_selector_constraint('single-az', 'true')\n",
    "        op.add_node_selector_constraint('spot', 'false')\n",
    "        op.container.set_memory_request(\"2G\")\n",
    "        op.container.set_cpu_request(\"1\")"
   ]
  },
  {
   "cell_type": "code",
   "execution_count": null,
   "metadata": {},
   "outputs": [],
   "source": [
    "@dsl.pipeline(\n",
    "    name=\"VolumeOp Basic\",\n",
    "    description=\"A Basic Example on VolumeOp Usage.\"\n",
    ")\n",
    "def ebs_pipeline(size=\"1Gi\"):\n",
    "\n",
    "    vop = dsl.VolumeOp(\n",
    "        name=\"create_pvc\",\n",
    "        resource_name=\"my-pvc\",\n",
    "        modes=dsl.VOLUME_MODE_RWO,\n",
    "        size=size\n",
    "    )\n",
    "\n",
    "    cop = dsl.ContainerOp(\n",
    "        name=\"Component1\",\n",
    "        image=\"library/bash:4.4.23\",\n",
    "        command=[\"sh\", \"-c\"],\n",
    "        arguments=[\"sleep 1m && echo foo > /mnt/file1\"],\n",
    "        pvolumes={\"/mnt\": vop.volume}\n",
    "    )\n",
    "\n",
    "    cop2 = dsl.ContainerOp(\n",
    "        name=\"Component2\",\n",
    "        image=\"library/bash:4.4.23\",\n",
    "        command=[\"sh\", \"-c\"],\n",
    "        arguments=[\"cat /mnt/file1\"],\n",
    "        pvolumes={\"/mnt\": vop.volume}\n",
    "    ).after(cop)\n",
    "    \n",
    "    vop.delete().after(cop2)\n",
    "\n",
    "    pipeline_conf = dsl.get_pipeline_conf()\n",
    "#     pipeline_conf.add_op_transformer(transformers.irml_defaults)\n",
    "#     pipeline_conf.add_op_transformer(node_selector)\n",
    "\n",
    "\n",
    "sample_input = {'size': '1Gi'}    "
   ]
  },
  {
   "cell_type": "code",
   "execution_count": null,
   "metadata": {},
   "outputs": [],
   "source": [
    "# Get or create an experiment and submit a pipeline run\n",
    "EXPERIMENT_NAME='ebs-delete'\n",
    "experiment = client.create_experiment(name=EXPERIMENT_NAME, namespace='eksworkshop')"
   ]
  },
  {
   "cell_type": "code",
   "execution_count": null,
   "metadata": {},
   "outputs": [],
   "source": [
    "pipeline_func = ebs_pipeline\n",
    "pipeline_filename = pipeline_func.__name__ + '.zip'\n",
    "compiler.Compiler().compile(pipeline_func, pipeline_filename)"
   ]
  },
  {
   "cell_type": "code",
   "execution_count": null,
   "metadata": {},
   "outputs": [],
   "source": [
    "# Specify pipeline argument values\n",
    "arguments = {'size': '1Gi'}\n",
    "\n",
    "# Submit a pipeline run\n",
    "run_name = pipeline_func.__name__ + ' run'\n",
    "run_result = client.run_pipeline(experiment.id, run_name, pipeline_filename, arguments)\n",
    "\n",
    "# This link leads to the run information page. \n",
    "# Note: There is a bug in JupyterLab that modifies the URL and makes the link stop working"
   ]
  }
 ],
 "metadata": {
  "kernelspec": {
   "display_name": "Python 3",
   "language": "python",
   "name": "python3"
  },
  "language_info": {
   "codemirror_mode": {
    "name": "ipython",
    "version": 3
   },
   "file_extension": ".py",
   "mimetype": "text/x-python",
   "name": "python",
   "nbconvert_exporter": "python",
   "pygments_lexer": "ipython3",
   "version": "3.8.5"
  }
 },
 "nbformat": 4,
 "nbformat_minor": 2
}
